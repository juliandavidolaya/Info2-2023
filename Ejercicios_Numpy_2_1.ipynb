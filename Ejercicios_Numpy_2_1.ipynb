{
  "nbformat": 4,
  "nbformat_minor": 0,
  "metadata": {
    "colab": {
      "provenance": []
    },
    "kernelspec": {
      "name": "python3",
      "display_name": "Python 3"
    },
    "language_info": {
      "name": "python"
    }
  },
  "cells": [
    {
      "cell_type": "code",
      "execution_count": null,
      "metadata": {
        "id": "K-TtEFRoy6xR"
      },
      "outputs": [],
      "source": []
    },
    {
      "cell_type": "markdown",
      "source": [
        "# Julián David Olaya Restrepo\n",
        "## cc: 1037592175"
      ],
      "metadata": {
        "id": "5a2JgGgb6Six"
      }
    },
    {
      "cell_type": "markdown",
      "source": [
        "### 1. Crear una matriz de ceros de tipo entero 3x4"
      ],
      "metadata": {
        "id": "WpaVDJG9y_Wj"
      }
    },
    {
      "cell_type": "code",
      "source": [
        "import numpy as np\n",
        "\n",
        "# Crear matriz de ceros de tipo entero de 3x4\n",
        "matriz_ceros = np.zeros((3, 4), dtype=int)\n",
        "\n",
        "print(matriz_ceros)"
      ],
      "metadata": {
        "id": "4Tsim7k4zSZ1"
      },
      "execution_count": null,
      "outputs": []
    },
    {
      "cell_type": "markdown",
      "source": [
        "### Crear una matriz de ceros tipo entero 3x4 excepto la primera fila que será uno."
      ],
      "metadata": {
        "id": "QZT6TE-bzgQ0"
      }
    },
    {
      "cell_type": "code",
      "source": [
        "import numpy as np\n",
        "\n",
        "matriz = np.zeros((3, 4), dtype=int)   # creamos una matriz de ceros de 3x4\n",
        "\n",
        "matriz[0] = 1   # asignamos un array de unos a la primera fila de la matriz\n",
        "\n",
        "print(matriz)"
      ],
      "metadata": {
        "id": "nJATFMumzzyu"
      },
      "execution_count": null,
      "outputs": []
    },
    {
      "cell_type": "markdown",
      "source": [
        "### Crear una matriz de ceros de tipo entero 3x4 exceptola última fila que será el rango entre 5 y 8."
      ],
      "metadata": {
        "id": "sz-7Hg4j0shn"
      }
    },
    {
      "cell_type": "code",
      "source": [
        "import numpy as np\n",
        "\n",
        "matriz = np.zeros((3, 4), dtype=int)   # creamos una matriz de ceros de 3x4\n",
        "\n",
        "matriz[2] = np.arange(5, 9)   # asignamos el rango de 5 a 8 a la última fila de la matriz\n",
        "\n",
        "print(matriz)"
      ],
      "metadata": {
        "id": "EJItI5Fu0zOw"
      },
      "execution_count": null,
      "outputs": []
    },
    {
      "cell_type": "markdown",
      "source": [
        "### Crea un vector de 10 elementos, siendo los índicesimpares unos y los índices pares dos."
      ],
      "metadata": {
        "id": "2H4ArgwT1hqd"
      }
    },
    {
      "cell_type": "code",
      "source": [
        "vector = []\n",
        "for i in range(10):\n",
        "    if i % 2 == 0:\n",
        "        vector.append(2)\n",
        "    else:\n",
        "        vector.append(1)\n",
        "print(vector)"
      ],
      "metadata": {
        "id": "G0y_Jcxg25gx"
      },
      "execution_count": null,
      "outputs": []
    },
    {
      "cell_type": "markdown",
      "source": [
        "### Crea un «tablero de ajedrez», con unos en las casillasnegras y ceros en las blancas."
      ],
      "metadata": {
        "id": "j4DLBwXN3CM7"
      }
    },
    {
      "cell_type": "code",
      "source": [
        "tablero = [] #### para crear lista donde se alamcena el tablero\n",
        "for fila in range(8):\n",
        "    fila_tablero = []\n",
        "    for columna in range(8):\n",
        "        if (fila + columna) % 2 == 0:\n",
        "            fila_tablero.append(0)\n",
        "        else:\n",
        "            fila_tablero.append(1)\n",
        "    tablero.append(fila_tablero)\n",
        "\n",
        "###codigo opcional para recorrer e imprimir el tablero.\n",
        "for fila in tablero: ### bucle para recorrer la lista\n",
        "    for casilla in fila: ##bucle de recooorer la fila e ir llenando\n",
        "        print(casilla, end=\" \")\n",
        "    print()"
      ],
      "metadata": {
        "id": "ginwIz3R3iH8"
      },
      "execution_count": null,
      "outputs": []
    },
    {
      "cell_type": "markdown",
      "source": [
        "### Crea  una  matriz  aleatoria  5x5  y  halla  los  valoresmínimo y máximo."
      ],
      "metadata": {
        "id": "eFfKib6w4e9p"
      }
    },
    {
      "cell_type": "code",
      "source": [
        "import random\n",
        "\n",
        "# Crear matriz aleatoria de 5x5\n",
        "matriz = []\n",
        "for i in range(5):\n",
        "    fila = []\n",
        "    for j in range(5):\n",
        "        fila.append(random.randint(0, 100))\n",
        "    matriz.append(fila)\n",
        "\n",
        "# Imprimir la matriz\n",
        "print(\"Matriz aleatoria:\")\n",
        "for fila in matriz:\n",
        "    print(fila)\n",
        "\n",
        "# Hallar el valor mínimo y máximo de la matriz\n",
        "minimo = min(min(fila) for fila in matriz)\n",
        "maximo = max(max(fila) for fila in matriz)\n",
        "\n",
        "# Imprimir el valor mínimo y máximo\n",
        "print(\"Valor mínimo:\", minimo)\n",
        "print(\"Valor máximo:\", maximo)\n"
      ],
      "metadata": {
        "id": "i0l-QILf5NWT"
      },
      "execution_count": null,
      "outputs": []
    },
    {
      "cell_type": "markdown",
      "source": [
        "### Normalizar la matriz anterior."
      ],
      "metadata": {
        "id": "Q4KNKcSA6Jo7"
      }
    },
    {
      "cell_type": "code",
      "source": [
        "import numpy as np\n",
        "\n",
        "# Crear matriz aleatoria de 5x5\n",
        "matriz = np.random.randint(0, 100, size=(5,5))\n",
        "\n",
        "# Imprimir la matriz original\n",
        "print(\"Matriz original:\")\n",
        "print(matriz)\n",
        "\n",
        "# Normalizar la matriz\n",
        "matriz_normalizada = (matriz - matriz.min()) / (matriz.max() - matriz.min())\n",
        "\n",
        "# Imprimir la matriz normalizada\n",
        "print(\"Matriz normalizada:\")\n",
        "print(matriz_normalizada)\n"
      ],
      "metadata": {
        "id": "Tp_td9Ch6N9L"
      },
      "execution_count": null,
      "outputs": []
    },
    {
      "cell_type": "markdown",
      "source": [],
      "metadata": {
        "id": "gbt-U0HV6QFs"
      }
    }
  ]
}